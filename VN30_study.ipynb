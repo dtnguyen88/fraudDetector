{
 "cells": [
  {
   "cell_type": "markdown",
   "metadata": {},
   "source": [
    "### Importing"
   ]
  },
  {
   "cell_type": "code",
   "execution_count": 1,
   "metadata": {
    "collapsed": false
   },
   "outputs": [],
   "source": [
    "from utils import dataGetter\n",
    "from datetime import datetime\n",
    "import pandas as pd\n",
    "import numpy as np\n"
   ]
  },
  {
   "cell_type": "markdown",
   "metadata": {},
   "source": [
    "### Getting data, data will be stored in /tmp/history.zip on a Unix base file system"
   ]
  },
  {
   "cell_type": "code",
   "execution_count": 26,
   "metadata": {
    "collapsed": false
   },
   "outputs": [],
   "source": [
    "data = dataGetter.getStockData(datetime(2017,11,14))\n",
    "#data = dataGetter.getDataFromFile(\"/path/to/history.zip\")"
   ]
  },
  {
   "cell_type": "markdown",
   "metadata": {},
   "source": [
    "### Getting floating data"
   ]
  },
  {
   "cell_type": "code",
   "execution_count": 52,
   "metadata": {
    "collapsed": false
   },
   "outputs": [],
   "source": [
    "float_data = pd.read_csv( 'data/vn30_floating.csv',index_col=0,dtype={'totalShares':np.int64,'floating':np.int64})\n",
    "\n",
    "vn30_members = float_data.index.values\n",
    "vn30_data = data[(data.Ticker.isin(vn30_members))]\n",
    "\n",
    "float_data['non_float'] = float_data['totalShares'] - float_data['floating']\n",
    "float_data['f_ratio_0'] = float_data['floating']/ float_data['totalShares']\n",
    "float_data['f_ratio_1'] = (float_data['floating'] - float_data['non_float']) / float_data['floating']\n"
   ]
  },
  {
   "cell_type": "code",
   "execution_count": 53,
   "metadata": {
    "collapsed": false
   },
   "outputs": [],
   "source": [
    "#create a copy, not a slice of old data\n",
    "vn30_data = vn30_data.copy()\n",
    "vn30_data['FloatingShares'] = vn30_data['Ticker'].map(float_data['floating'])\n",
    "vn30_data['TotalShares'] = vn30_data['Ticker'].map(float_data['totalShares'])\n",
    "vn30_data['MktCap'] = vn30_data['Close']*vn30_data['TotalShares']\n",
    "vn30_data['f_0'] = vn30_data['Ticker'].map(float_data['f_ratio_0'])\n",
    "vn30_data['f_1'] = vn30_data['Ticker'].map(float_data['f_ratio_1'])\n"
   ]
  },
  {
   "cell_type": "markdown",
   "metadata": {},
   "source": [
    "### Calculating $c_i$"
   ]
  },
  {
   "cell_type": "code",
   "execution_count": 54,
   "metadata": {
    "collapsed": false
   },
   "outputs": [],
   "source": [
    "#use the business day before the third monday of July\n",
    "calcDate = datetime(2017,7,14)\n",
    "calcData = vn30_data[vn30_data['Date'] == calcDate]\n",
    "\n",
    "stop = False\n",
    "Z = 0.1\n",
    "c = pd.Series(1, index=calcData.index)\n",
    "\n",
    "while not stop:\n",
    "    totalMktCap = (calcData['MktCap']*c).sum()\n",
    "    mktCap = calcData['MktCap']*c\n",
    "    mktCap_pct = mktCap / totalMktCap\n",
    "    tickers = calcData['Ticker'].values\n",
    "    weightMap = dict(zip(tickers, mktCap_pct.values))\n",
    "    mktCapMap = dict(zip(tickers, mktCap.values))\n",
    "\n",
    "    J = [x for x in weightMap if weightMap[x] <= Z ]\n",
    "    I = calcData[calcData['Ticker'].isin(J) ]['MktCap'].sum()/totalMktCap    \n",
    "    nJ = [x for x in weightMap if weightMap[x]>Z]\n",
    "    if( len( nJ ) == 0 ):\n",
    "        stop = True\n",
    "    psf = calcData['Close']*calcData['f_0']*calcData['TotalShares']\n",
    "    psf_J = psf[calcData['Ticker'].isin(J)].sum()\n",
    "    new_c = Z/I*psf_J/psf[calcData['Ticker'].isin(nJ)]\n",
    "    #print new_c\n",
    "    c[new_c.index] = new_c\n",
    "#c"
   ]
  },
  {
   "cell_type": "code",
   "execution_count": 55,
   "metadata": {
    "collapsed": false
   },
   "outputs": [],
   "source": [
    "tickers = calcData['Ticker']\n",
    "c_map = dict( zip( tickers.values, c.values ))"
   ]
  },
  {
   "cell_type": "code",
   "execution_count": 56,
   "metadata": {
    "collapsed": false
   },
   "outputs": [],
   "source": [
    "cmv = vn30_data['Close'] * vn30_data['TotalShares'] * vn30_data['f_0']* vn30_data['Ticker'].map(c_map)\n",
    "vn30_data['CMV'] = cmv"
   ]
  },
  {
   "cell_type": "code",
   "execution_count": 59,
   "metadata": {
    "collapsed": false
   },
   "outputs": [
    {
     "data": {
      "text/plain": [
       "Date\n",
       "2000-07-28      0.327779\n",
       "2000-07-31      0.333912\n",
       "2000-08-02      0.340063\n",
       "2000-08-04      0.346214\n",
       "2000-08-07      0.352347\n",
       "2000-08-09      0.358498\n",
       "2000-08-11      0.364649\n",
       "2000-08-14      0.370800\n",
       "2000-08-16      0.376933\n",
       "2000-08-18      0.383084\n",
       "2000-08-21      0.389235\n",
       "2000-08-23      0.395368\n",
       "2000-08-25      0.389235\n",
       "2000-08-28      0.383084\n",
       "2000-08-30      0.376933\n",
       "2000-09-01      0.370800\n",
       "2000-09-06      0.364649\n",
       "2000-09-08      0.358498\n",
       "2000-09-11      0.364649\n",
       "2000-09-13      0.370800\n",
       "2000-09-15      0.376933\n",
       "2000-09-18      0.370800\n",
       "2000-09-20      0.376933\n",
       "2000-09-22      0.370800\n",
       "2000-09-25      0.370800\n",
       "2000-09-27      0.370800\n",
       "2000-09-29      0.372844\n",
       "2000-10-02      0.372844\n",
       "2000-10-04      0.372844\n",
       "2000-10-06      0.372844\n",
       "                 ...    \n",
       "2017-10-04    770.231223\n",
       "2017-10-05    770.301772\n",
       "2017-10-06    772.416213\n",
       "2017-10-09    773.156049\n",
       "2017-10-10    774.842695\n",
       "2017-10-11    779.125500\n",
       "2017-10-12    782.119766\n",
       "2017-10-13    789.588085\n",
       "2017-10-16    786.414646\n",
       "2017-10-17    797.612970\n",
       "2017-10-18    798.201821\n",
       "2017-10-19    799.258345\n",
       "2017-10-20    797.965608\n",
       "2017-10-23    793.305694\n",
       "2017-10-24    799.310228\n",
       "2017-10-25    806.092910\n",
       "2017-10-26    806.903478\n",
       "2017-10-27    820.168217\n",
       "2017-10-30    830.229560\n",
       "2017-10-31    822.436023\n",
       "2017-11-01    830.752204\n",
       "2017-11-02    824.033875\n",
       "2017-11-03    836.123323\n",
       "2017-11-06    841.787875\n",
       "2017-11-07    842.334896\n",
       "2017-11-08    852.424006\n",
       "2017-11-09    850.825259\n",
       "2017-11-10    854.980162\n",
       "2017-11-13    868.162844\n",
       "2017-11-14    871.080173\n",
       "Name: CMV, dtype: float64"
      ]
     },
     "execution_count": 59,
     "metadata": {},
     "output_type": "execute_result"
    }
   ],
   "source": [
    "#vn30_data['vn30_comp'] = vn30_data['Close'] * vn30_data['IndexWeight']\n",
    "vn30_data.groupby(['Date'])['CMV'].sum()/1.713809e+09"
   ]
  }
 ],
 "metadata": {
  "kernelspec": {
   "display_name": "Python 2",
   "language": "python",
   "name": "python2"
  },
  "language_info": {
   "codemirror_mode": {
    "name": "ipython",
    "version": 2
   },
   "file_extension": ".py",
   "mimetype": "text/x-python",
   "name": "python",
   "nbconvert_exporter": "python",
   "pygments_lexer": "ipython2",
   "version": "2.7.13"
  }
 },
 "nbformat": 4,
 "nbformat_minor": 2
}
